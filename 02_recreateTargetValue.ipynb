{
 "cells": [
  {
   "cell_type": "code",
   "execution_count": null,
   "id": "91dc4e55",
   "metadata": {},
   "outputs": [],
   "source": [
    "import pandas as pd\n",
    "import numpy as np"
   ]
  },
  {
   "cell_type": "code",
   "execution_count": null,
   "id": "d68a8384",
   "metadata": {},
   "outputs": [],
   "source": [
    "train = pd.read_csv('train.csv')"
   ]
  },
  {
   "cell_type": "code",
   "execution_count": null,
   "id": "414d3a99",
   "metadata": {},
   "outputs": [],
   "source": [
    "train.head()"
   ]
  },
  {
   "cell_type": "code",
   "execution_count": null,
   "id": "d49045fa",
   "metadata": {},
   "outputs": [],
   "source": [
    "#look at bitcoin\n",
    "btc = train.loc[train.Asset_ID == 1].set_index('timestamp')"
   ]
  },
  {
   "cell_type": "code",
   "execution_count": null,
   "id": "e6178834",
   "metadata": {},
   "outputs": [],
   "source": [
    "btc.info(show_counts =True)\n",
    "btc.isna().sum()\n",
    "(btc.index[1:]-btc.index[:-1]).value_counts().head()"
   ]
  },
  {
   "cell_type": "code",
   "execution_count": null,
   "id": "724aa4d0",
   "metadata": {},
   "outputs": [],
   "source": [
    "#fill gaps in data\n",
    "btc = btc.reindex(range(btc.index[0],btc.index[-1]+60,60),method='pad')\n",
    "a = (btc.index[1:]-btc.index[:-1]).value_counts().head()"
   ]
  },
  {
   "cell_type": "code",
   "execution_count": null,
   "id": "d0d97d4f",
   "metadata": {},
   "outputs": [],
   "source": [
    "a.iloc[0]\n",
    "a"
   ]
  },
  {
   "cell_type": "code",
   "execution_count": null,
   "id": "de58ea40",
   "metadata": {},
   "outputs": [],
   "source": [
    "btc"
   ]
  },
  {
   "cell_type": "code",
   "execution_count": null,
   "id": "e08948b4",
   "metadata": {},
   "outputs": [],
   "source": [
    "nan_btc = btc.loc[btc['Target'].isnull()]\n",
    "(nan_btc.index[1:]-nan_btc.index[:-1]).value_counts().head()"
   ]
  },
  {
   "cell_type": "code",
   "execution_count": null,
   "id": "cfceacd9",
   "metadata": {},
   "outputs": [],
   "source": [
    "nan_btc.Target.unique()"
   ]
  },
  {
   "cell_type": "code",
   "execution_count": null,
   "id": "38ec7807",
   "metadata": {},
   "outputs": [],
   "source": [
    "import matplotlib.pyplot as plt\n",
    "\n",
    "plt.scatter(nan_btc.index, np.ones(len(nan_btc.index)))"
   ]
  },
  {
   "cell_type": "code",
   "execution_count": null,
   "id": "866c631c",
   "metadata": {},
   "outputs": [],
   "source": [
    "#compare to coins target nan\n",
    "coins = train.Asset_ID.unique()\n",
    "for i in coins:\n",
    "    coin = train.loc[train.Asset_ID == i].set_index('timestamp')\n",
    "    coin = coin.reindex(range(coin.index[0],coin.index[-1]+60,60),method='pad')  #fil missing values\n",
    "    nan_coin = coin.loc[coin['Target'].isna()]\n",
    "    print('coin = ',i, coin.shape, coin.index[0], coin.index[len(coin.index)-1], '# of NAN = ', nan_coin.shape[0], nan_coin.shape[0]/coin.shape[0]*100,\"%\")\n",
    "    fig = plt.figure()\n",
    "    plt.scatter(nan_coin.index, np.ones(len(nan_coin.index)))\n",
    "    plt.title(i)\n",
    "    \n",
    "# coins don't have similar data set lengths\n",
    "# minimal data is from coin 4, use these timestamps to define training data (1285047, 9) 1555079640 1632182400\n",
    "\n",
    "# coin 10 has a lot of nan (64%) hardly possible to find overlapping training for which all coins have a valid target"
   ]
  },
  {
   "cell_type": "code",
   "execution_count": null,
   "id": "507a98f8",
   "metadata": {},
   "outputs": [],
   "source": [
    "btc.loc[btc.index == 1571201820]#[1571201700-60:1571201820+60]"
   ]
  },
  {
   "cell_type": "code",
   "execution_count": null,
   "id": "838e457c",
   "metadata": {},
   "outputs": [],
   "source": [
    "btc.iloc[1956960-861:1956960]"
   ]
  },
  {
   "cell_type": "code",
   "execution_count": null,
   "id": "af6354b9",
   "metadata": {},
   "outputs": [],
   "source": [
    "def calcR(train, index):\n",
    "    t16 = train['Close'].iloc[index + 16]\n",
    "    t1 = train['Close'].iloc[index+1]\n",
    "    R = np.log(t16/t1)\n",
    "    print(t16, t1, R)\n",
    "    return R\n",
    "\n",
    "(calcR(btc, 0))"
   ]
  },
  {
   "cell_type": "code",
   "execution_count": null,
   "id": "64704839",
   "metadata": {},
   "outputs": [],
   "source": [
    "def ResidualizeMarket(df, mktColumn, window):\n",
    "  if mktColumn not in df.columns:\n",
    "    return df\n",
    "\n",
    "  mkt = df[mktColumn]\n",
    "\n",
    "  num = df.multiply(mkt.values, axis=0).rolling(window).mean().values  #numerator of linear regression coefficient\n",
    "  denom = mkt.multiply(mkt.values, axis=0).rolling(window).mean().values  #denominator of linear regression coefficient\n",
    "  beta = np.nan_to_num( num.T / denom, nan=0., posinf=0., neginf=0.)  #if regression fell over, use beta of 0\n",
    "\n",
    "  resultRet = df - (beta * mkt.values).T  #perform residualization\n",
    "  resultBeta = 0.*df + beta.T  #shape beta\n",
    "\n",
    "  return resultRet.drop(columns=[mktColumn]), resultBeta.drop(columns=[mktColumn])"
   ]
  },
  {
   "cell_type": "code",
   "execution_count": null,
   "id": "15482d9f",
   "metadata": {},
   "outputs": [],
   "source": []
  }
 ],
 "metadata": {
  "kernelspec": {
   "display_name": "Python 3",
   "language": "python",
   "name": "python3"
  },
  "language_info": {
   "codemirror_mode": {
    "name": "ipython",
    "version": 3
   },
   "file_extension": ".py",
   "mimetype": "text/x-python",
   "name": "python",
   "nbconvert_exporter": "python",
   "pygments_lexer": "ipython3",
   "version": "3.8.8"
  },
  "latex_envs": {
   "LaTeX_envs_menu_present": true,
   "autoclose": false,
   "autocomplete": true,
   "bibliofile": "biblio.bib",
   "cite_by": "apalike",
   "current_citInitial": 1,
   "eqLabelWithNumbers": true,
   "eqNumInitial": 1,
   "hotkeys": {
    "equation": "Ctrl-E",
    "itemize": "Ctrl-I"
   },
   "labels_anchors": false,
   "latex_user_defs": false,
   "report_style_numbering": false,
   "user_envs_cfg": false
  }
 },
 "nbformat": 4,
 "nbformat_minor": 5
}
