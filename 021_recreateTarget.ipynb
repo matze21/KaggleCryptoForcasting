{
 "cells": [
  {
   "cell_type": "code",
   "execution_count": null,
   "id": "d91726df",
   "metadata": {},
   "outputs": [],
   "source": [
    "import pandas as pd\n",
    "import numpy as np\n",
    "import matplotlib.pyplot as plt"
   ]
  },
  {
   "cell_type": "code",
   "execution_count": null,
   "id": "6fcab78c",
   "metadata": {},
   "outputs": [],
   "source": [
    "data = pd.read_hdf('03_non_padded_with_batch_info.h5')"
   ]
  },
  {
   "cell_type": "code",
   "execution_count": null,
   "id": "f3c9057c",
   "metadata": {},
   "outputs": [],
   "source": [
    "weights = pd.read_csv('data/asset_details.csv')"
   ]
  },
  {
   "cell_type": "code",
   "execution_count": null,
   "id": "cdc85c80",
   "metadata": {},
   "outputs": [],
   "source": [
    "weights"
   ]
  },
  {
   "cell_type": "code",
   "execution_count": null,
   "id": "66ff68b5",
   "metadata": {},
   "outputs": [],
   "source": [
    "data.head()"
   ]
  },
  {
   "cell_type": "code",
   "execution_count": null,
   "id": "5df187b5",
   "metadata": {},
   "outputs": [],
   "source": [
    "batchSize = max(np.unique(data.batchSize))\n",
    "batch = data.loc[data.batchSize == batchSize]"
   ]
  },
  {
   "cell_type": "code",
   "execution_count": null,
   "id": "b8e10ddb",
   "metadata": {},
   "outputs": [],
   "source": [
    "batch"
   ]
  },
  {
   "cell_type": "code",
   "execution_count": null,
   "id": "9f1a761a",
   "metadata": {},
   "outputs": [],
   "source": [
    "for i in np.unique(data.Asset_ID):\n",
    "    coin = data.loc[data.Asset_ID == i]\n",
    "    fig = plt.figure()\n",
    "    plt.scatter(np.linspace(0, len(coin)-1, len(coin)), coin.Close)\n",
    "    plt.title(i)\n"
   ]
  },
  {
   "cell_type": "code",
   "execution_count": null,
   "id": "1f9507a6",
   "metadata": {},
   "outputs": [],
   "source": [
    "def R(batch, t):\n",
    "    t16 = batch.loc[batch.timestamp == (t+16*60)].Close.to_numpy()\n",
    "    t1  = batch.loc[batch.timestamp == (t+1*60)].Close.to_numpy()\n",
    "    return np.log(t16/t1)\n",
    "\n",
    "print(batch.loc[batch.Asset_ID == 0])\n",
    "R(batch.loc[batch.Asset_ID == 0], 1615202340)"
   ]
  },
  {
   "cell_type": "code",
   "execution_count": null,
   "id": "1dac621f",
   "metadata": {},
   "outputs": [],
   "source": [
    "def M(data, t, weights):\n",
    "    assets = np.unique(weights.Asset_ID.to_numpy())\n",
    "    #print(assets)\n",
    "    nom = 0\n",
    "    denom = 0\n",
    "    Rs=[]\n",
    "    for asset in assets:\n",
    "        weight = weights.loc[weights.Asset_ID == asset].Weight.to_numpy()\n",
    "        #print(asset, weight)\n",
    "        batch = data.loc[data.Asset_ID == asset]\n",
    "        r = R(batch, t)\n",
    "        Rs.append(r)\n",
    "        nom = nom + weight*r\n",
    "        denom = denom + weight\n",
    "    return nom/denom#, Rs"
   ]
  },
  {
   "cell_type": "code",
   "execution_count": null,
   "id": "e68b9336",
   "metadata": {},
   "outputs": [],
   "source": [
    "M(batch, 1615202340, weights)"
   ]
  },
  {
   "cell_type": "code",
   "execution_count": null,
   "id": "34808b64",
   "metadata": {},
   "outputs": [],
   "source": [
    "batch['M'] = 0\n",
    "batch['R'] = 0\n",
    "for timestamp in np.unique(batch.timestamp.to_numpy()):\n",
    "    timeStampBatch = batch.loc[batch.timestamp == timestamp]\n",
    "    indexes = timeStampBatch.index.to_numpy()\n",
    "    #print(timeStampBatch, indexes)\n",
    "    batch.at[indexes, 'M'] = M(batch, timestamp, weights)[0]\n",
    "    for asset in np.unique(batch.Asset_ID.to_numpy()):\n",
    "        index = timeStampBatch.loc[batch.Asset_ID == asset].index.to_numpy()\n",
    "        #print(asset, index)\n",
    "        batch.at[index,'R'] = R(batch, timestamp)[0]\n",
    "        #break\n",
    "    #print(batch.loc[batch.timestamp == timestamp])\n",
    "    #break\n"
   ]
  },
  {
   "cell_type": "code",
   "execution_count": null,
   "id": "26d4135f",
   "metadata": {},
   "outputs": [],
   "source": [
    "batch.to_hdf('04_biggestBatch_with_M_and_R.h5', key = 'df', mode = 'w')"
   ]
  },
  {
   "cell_type": "code",
   "execution_count": null,
   "id": "4a0aff33",
   "metadata": {},
   "outputs": [],
   "source": [
    "def recreateTarget(data, details):\n",
    "    data['Time'] = pd.to_datetime(data['timestamp'], unit='s')\n",
    "    price_column = 'Close'\n",
    "    ids = list(details.Asset_ID)\n",
    "    chunks = []\n",
    "    for id in ids:    \n",
    "        asset = data[data.Asset_ID == id].copy()\n",
    "        asset.sort_values(by='Time', inplace=True)\n",
    "        asset.set_index(keys='Time', inplace=True)\n",
    "        asset['p1'] = asset[price_column].shift(freq='-1T')\n",
    "        asset['p16'] = asset[price_column].shift(freq='-16T')\n",
    "        asset['r'] = np.log(asset.p16/asset.p1)\n",
    "        asset.drop(['p1', 'p16'], axis=1, inplace=True)\n",
    "        asset.reset_index(inplace=True)\n",
    "        chunks.append(asset)\n",
    "\n",
    "    data = pd.concat(chunks)\n",
    "    data.sort_values(by='Time', inplace=True)\n",
    "\n",
    "    data['w'] = data['Asset_ID'].map(details.set_index(keys='Asset_ID')['Weight'])\n",
    "    weight_sum = details.Weight.sum()\n",
    "\n",
    "    data['weighted_asset_r'] = data.w * data.r\n",
    "    time_group = data.groupby('Time')\n",
    "\n",
    "    m = time_group['weighted_asset_r'].sum() / time_group['w'].sum()\n",
    "    #m = time_group['weighted_asset_r'].sum() / weight_sum\n",
    "\n",
    "    data.set_index(keys=['Time'], inplace=True)\n",
    "    data['m'] = m\n",
    "    data.reset_index(inplace=True)\n",
    "\n",
    "    data['m2'] = data.m ** 2\n",
    "    data['mr'] = data.r * data.m\n",
    "\n",
    "    chunks = []\n",
    "    for id in ids:\n",
    "        # type: pd.DataFrame\n",
    "        asset = data[data.Asset_ID == id].copy()\n",
    "        asset.sort_values(by='Time', inplace=True)\n",
    "        asset.set_index(keys='Time', inplace=True)\n",
    "        asset['mr_rolling'] = asset['mr'].rolling(window='3750T', min_periods=3750).mean()\n",
    "        asset['m2_rolling'] = asset['m2'].rolling(window='3750T', min_periods=3750).mean()\n",
    "        asset.reset_index(inplace=True)\n",
    "        chunks.append(asset)\n",
    "        debug = 1\n",
    "\n",
    "    data = pd.concat(chunks)\n",
    "    data.sort_values(by='Time', inplace=True)\n",
    "    data['beta'] = data['mr_rolling'] / data['m2_rolling']\n",
    "\n",
    "    data['Target_recreated'] = data['r'] - data['beta'] * data['m']\n",
    "\n",
    "    data['Target_diff'] = np.abs(data['Target'] - data['Target_recreated'])\n",
    "\n",
    "    print(f'Average absolute error {data.Target_diff.mean():8.6f}')\n",
    "    print(f'Max absolute error {data.Target_diff.max():8.6f}')\n",
    "    print(f'Standard deviation {data.Target_diff.std():8.6f}')\n",
    "    \n",
    "    return data"
   ]
  },
  {
   "cell_type": "code",
   "execution_count": null,
   "id": "7f8026f9",
   "metadata": {},
   "outputs": [],
   "source": [
    "newBatch = data.loc[data.batchSize == batchSize]\n",
    "modBatch = recreateTarget(newBatch, weights)"
   ]
  },
  {
   "cell_type": "code",
   "execution_count": null,
   "id": "7b9a306e",
   "metadata": {},
   "outputs": [],
   "source": [
    "for i in np.unique(data.Asset_ID):\n",
    "    coin = modBatch.loc[modBatch.Asset_ID == i]\n",
    "    fig = plt.figure()\n",
    "    #plt.scatter(np.linspace(0, len(coin)-1, len(coin)), coin.Target_recreated)\n",
    "    plt.scatter(np.linspace(0, len(coin)-1, len(coin)), coin.Target_diff)\n",
    "    plt.title(i)\n"
   ]
  },
  {
   "cell_type": "code",
   "execution_count": null,
   "id": "9b9fe7ab",
   "metadata": {},
   "outputs": [],
   "source": []
  }
 ],
 "metadata": {
  "kernelspec": {
   "display_name": "Python 3",
   "language": "python",
   "name": "python3"
  },
  "language_info": {
   "codemirror_mode": {
    "name": "ipython",
    "version": 3
   },
   "file_extension": ".py",
   "mimetype": "text/x-python",
   "name": "python",
   "nbconvert_exporter": "python",
   "pygments_lexer": "ipython3",
   "version": "3.8.8"
  },
  "latex_envs": {
   "LaTeX_envs_menu_present": true,
   "autoclose": false,
   "autocomplete": true,
   "bibliofile": "biblio.bib",
   "cite_by": "apalike",
   "current_citInitial": 1,
   "eqLabelWithNumbers": true,
   "eqNumInitial": 1,
   "hotkeys": {
    "equation": "Ctrl-E",
    "itemize": "Ctrl-I"
   },
   "labels_anchors": false,
   "latex_user_defs": false,
   "report_style_numbering": false,
   "user_envs_cfg": false
  }
 },
 "nbformat": 4,
 "nbformat_minor": 5
}
