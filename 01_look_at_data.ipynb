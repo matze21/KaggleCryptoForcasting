{
 "cells": [
  {
   "cell_type": "code",
   "execution_count": null,
   "id": "7baf2961",
   "metadata": {},
   "outputs": [],
   "source": [
    "import pandas as pd"
   ]
  },
  {
   "cell_type": "code",
   "execution_count": null,
   "id": "79a5aa39",
   "metadata": {},
   "outputs": [],
   "source": [
    "train = pd.read_csv('train.csv')"
   ]
  },
  {
   "cell_type": "code",
   "execution_count": null,
   "id": "43498179",
   "metadata": {},
   "outputs": [],
   "source": [
    "#VWAP = sum(bought_Stocks * Value) / sum(boughtStocks) -> how much money was spent on average\n",
    "# volume = stocks bought / sold\n",
    "\n",
    "#first thought -> attention based RNN (similar to speach recognition)\n",
    "train.head()\n",
    "\n",
    "#things I need to do\n",
    "# - split training into different coins (ID) for EDA\n",
    "# - new featuers (diff high-low), \n",
    "# - what is the target exaclty, is target the next difference?\n",
    "# - what is count exaclty?\n",
    "# - what is the weight in the excel sheet -> market cap at a point in time -> more importance to more market cap\n",
    "\n",
    "#data\n",
    "# - how to deal with nan values\n",
    "# - should all values be continuous -> split dataset into multiple batches that slipt the data according to missing values\n",
    "# - should model be able to handle missing values? (yes but NOT missing target values!)\n",
    "# - train with timestamp different as parameter? to be able to use bigger misses\n",
    "\n",
    "#modelling\n",
    "# - think about to either train one model and use all coins as training data \n",
    "# - OR train one model with all 13 coins to be predicted at the same time (-> most likely since we want to govern overall market dynamics)\n",
    "# - RNN with transformers / LSTMS with 13xfeatures input signals & 13 targets per output\n",
    "# - 13 separete RNNS that can talk to each other\n",
    "# - one RNN that tries to govern the market dynamics -> acts as input to 13 separate RNNs\n",
    "# - stacked model consistent of RNNs and other NN, trees, linear regression,..\n",
    "\n",
    "#validation\n",
    "# - try to predict price +16 and price + 1 -> calculate target afterwards (alternatively predict p16/p1 or log(p16/p1))\n",
    "# - use k folds? & step through data\n",
    "# - use k fold models for stacking\n",
    "# - check if I can download data myself and evaluate if it works well\n",
    "\n",
    "#feature engineering\n",
    "# - feature for describing the overall market condition -> calculate percentage of change between to timestamps and average over it\n",
    "# - accumulate percentage change to get overall signal (both features might be helpful)\n",
    "# - upper shadow (alltime max - current high) / alltime max\n",
    "# - lower shadow (current low - alltime low)  / alltime low\n",
    "# - taking the log of all of the above signals to make small changes better visible\n",
    "# - weekday\n",
    "# - month\n",
    "# - quartal\n",
    "# - use beta as market behavior (from target calculation)"
   ]
  },
  {
   "cell_type": "code",
   "execution_count": null,
   "id": "2563b7d3",
   "metadata": {},
   "outputs": [],
   "source": [
    "train.Asset_ID.unique()"
   ]
  },
  {
   "cell_type": "code",
   "execution_count": null,
   "id": "a1b33132",
   "metadata": {},
   "outputs": [],
   "source": [
    "coine0 = train.loc[train.Asset_ID == 0] "
   ]
  },
  {
   "cell_type": "code",
   "execution_count": null,
   "id": "51304748",
   "metadata": {},
   "outputs": [],
   "source": [
    "pd.plotting.scatter_matrix(coine0)"
   ]
  }
 ],
 "metadata": {
  "kernelspec": {
   "display_name": "Python 3",
   "language": "python",
   "name": "python3"
  },
  "language_info": {
   "codemirror_mode": {
    "name": "ipython",
    "version": 3
   },
   "file_extension": ".py",
   "mimetype": "text/x-python",
   "name": "python",
   "nbconvert_exporter": "python",
   "pygments_lexer": "ipython3",
   "version": "3.8.8"
  },
  "latex_envs": {
   "LaTeX_envs_menu_present": true,
   "autoclose": false,
   "autocomplete": true,
   "bibliofile": "biblio.bib",
   "cite_by": "apalike",
   "current_citInitial": 1,
   "eqLabelWithNumbers": true,
   "eqNumInitial": 1,
   "hotkeys": {
    "equation": "Ctrl-E",
    "itemize": "Ctrl-I"
   },
   "labels_anchors": false,
   "latex_user_defs": false,
   "report_style_numbering": false,
   "user_envs_cfg": false
  }
 },
 "nbformat": 4,
 "nbformat_minor": 5
}
