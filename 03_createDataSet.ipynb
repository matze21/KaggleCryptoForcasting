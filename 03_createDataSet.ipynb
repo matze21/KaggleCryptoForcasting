{
 "cells": [
  {
   "cell_type": "code",
   "execution_count": null,
   "id": "c0b31b2c",
   "metadata": {},
   "outputs": [],
   "source": [
    "import pandas as pd\n",
    "import numpy as np\n",
    "import matplotlib.pyplot as plt"
   ]
  },
  {
   "cell_type": "code",
   "execution_count": null,
   "id": "3b685833",
   "metadata": {},
   "outputs": [],
   "source": [
    "train = pd.read_csv('train.csv')\n",
    "trainSup = pd.read_csv('supplemental_train.csv')"
   ]
  },
  {
   "cell_type": "code",
   "execution_count": null,
   "id": "9275b0bc",
   "metadata": {},
   "outputs": [],
   "source": [
    "#check what padding does exactly -> adds same value as before, repalce with nan instead\n",
    "# padding replaces entire data with same values\n",
    "coin =train.loc[train.Asset_ID == 0].set_index('timestamp')\n",
    "coin = coin.iloc[0:10]\n",
    "print(coin)\n",
    "coin = coin.drop(index = coin.index.to_numpy()[2])\n",
    "coin = coin.reindex(range(coin.index[0],coin.index[-1]+60,60),method='pad')\n",
    "print(coin)"
   ]
  },
  {
   "cell_type": "code",
   "execution_count": null,
   "id": "628a938c",
   "metadata": {},
   "outputs": [],
   "source": [
    "trainSup.timestamp"
   ]
  },
  {
   "cell_type": "code",
   "execution_count": null,
   "id": "c43a81d5",
   "metadata": {},
   "outputs": [],
   "source": [
    "def analyseData(df, paddingMethod = 'pad'):\n",
    "    coins = df.Asset_ID.unique()\n",
    "    flawedData = np.array([])\n",
    "    for i in coins:\n",
    "        coin = df.loc[df.Asset_ID == i].set_index('timestamp')\n",
    "        coin = coin.reindex(range(coin.index[0],coin.index[-1]+60,60),method=paddingMethod)  #fil missing values\n",
    "        nan_coin = coin.loc[coin['Target'].isna()]\n",
    "        flawedData= np.concatenate((flawedData, nan_coin.index.to_numpy()))\n",
    "        print((nan_coin.index[1:]-nan_coin.index[:-1]).value_counts().head())\n",
    "        numberTimestamps = coin.index.unique().shape[0]\n",
    "        overlapTimestamps = coin.shape[0] - numberTimestamps\n",
    "        print('coin = ',i, coin.shape, coin.index[0], coin.index[len(coin.index)-1], '# of NAN = ', nan_coin.shape[0], nan_coin.shape[0]/coin.shape[0]*100,\"%, overlapping index #= \", overlapTimestamps)\n",
    "        fig = plt.figure()\n",
    "        plt.scatter(nan_coin.index, np.ones(len(nan_coin.index)))\n",
    "        plt.title(i)\n",
    "    print('flawedData in %', np.unique(flawedData).shape[0]/(df.shape[0]/13))\n",
    "    return flawedData"
   ]
  },
  {
   "cell_type": "code",
   "execution_count": null,
   "id": "54f3b233",
   "metadata": {},
   "outputs": [],
   "source": [
    "flawedDataSup = analyseData(trainSup)"
   ]
  },
  {
   "cell_type": "code",
   "execution_count": null,
   "id": "52bcbc90",
   "metadata": {},
   "outputs": [],
   "source": [
    "flawedData = analyseData(train)"
   ]
  },
  {
   "cell_type": "code",
   "execution_count": null,
   "id": "b501cfc5",
   "metadata": {},
   "outputs": [],
   "source": [
    "indexListFlawed = np.unique(flawedData)\n",
    "#print(indexListFlawed)\n",
    "trainMod = train[train.timestamp.isin(indexListFlawed) == False]\n",
    "#trainMod = train.drop(index = indexListFlawed, axis = 1)"
   ]
  },
  {
   "cell_type": "code",
   "execution_count": null,
   "id": "56396645",
   "metadata": {},
   "outputs": [],
   "source": [
    "trainMod"
   ]
  },
  {
   "cell_type": "code",
   "execution_count": null,
   "id": "0441508a",
   "metadata": {},
   "outputs": [],
   "source": [
    "def processData(df):\n",
    "    #iterate over coins\n",
    "    isInit = False\n",
    "    coins = train.Asset_ID.unique()\n",
    "    for coin in coins:\n",
    "        coinData = df.loc[df.Asset_ID == coin].set_index('timestamp') \n",
    "        #print(coinData)\n",
    "        #pad missing values\n",
    "        coinData = coinData.reindex(range(coinData.index[0],coinData.index[-1]+60,60),method='pad')\n",
    "        #print((coinData.index[1:]-coinData.index[:-1]).value_counts().head())\n",
    "        if not isInit:\n",
    "            data = pd.DataFrame(coinData)\n",
    "            isInit = True\n",
    "        else:\n",
    "            print(data.shape, coinData.shape)\n",
    "            data = pd.concat([data,coinData], sort = True)\n",
    "            \n",
    "            #print(data.loc[data.index == 1514765100])\n",
    "    return data\n",
    "cache = processData(trainMod)"
   ]
  },
  {
   "cell_type": "code",
   "execution_count": null,
   "id": "8078d457",
   "metadata": {},
   "outputs": [],
   "source": [
    "cache.to_hdf('01_padded_data_padded_nan.h5', key = 'df', mode = 'w')"
   ]
  },
  {
   "cell_type": "code",
   "execution_count": null,
   "id": "c89d714d",
   "metadata": {},
   "outputs": [],
   "source": [
    "def splitDataIntoBatches(df, indexes):\n",
    "    batches = []\n",
    "    allIndexes = df.index.to_numpy()\n",
    "    print(allIndexes)\n",
    "    print(indexes)\n",
    "    for i in range(len(indexes)-1):\n",
    "        currIndex = int(allIndexes[np.where(allIndexes == indexes[i])[0][0]+1])\n",
    "        nextIndex = int(indexes[i+1])\n",
    "        print(currIndex, nextIndex)\n",
    "        print(df.iloc[currIndex], df.iloc[nextIndex])\n",
    "        batch = df.iloc[currIndex:nextIndex]\n",
    "        if not batch.empty:\n",
    "            batches.append(batch)\n",
    "        print(batch)\n",
    "        break\n",
    "    return batches"
   ]
  },
  {
   "cell_type": "code",
   "execution_count": null,
   "id": "01cf7345",
   "metadata": {},
   "outputs": [],
   "source": [
    "flawedDataNotPadded = analyseData(train, None)\n",
    "print(flawedDataNotPadded)\n",
    "#coinTest = splitDataIntoBatches(coinData, indexListFlawed)\n",
    "\n",
    "#print(coinTest[0], indexListFlawed)"
   ]
  },
  {
   "cell_type": "code",
   "execution_count": null,
   "id": "c124d418",
   "metadata": {},
   "outputs": [],
   "source": [
    "trainModNotPadded = train[train.timestamp.isin(flawedDataNotPadded) == False]"
   ]
  },
  {
   "cell_type": "code",
   "execution_count": null,
   "id": "cc1219eb",
   "metadata": {},
   "outputs": [],
   "source": [
    "def addBatchNr(df):\n",
    "    df['batch'] = 0\n",
    "    df['batchSize'] = 0\n",
    "    startBatchIndex = 0\n",
    "    batchNr = 0\n",
    "    #print(range(df.shape[0]-1))\n",
    "    for i in range(df.shape[0]-1):\n",
    "        diff = df.iloc[i+1].timestamp - df.iloc[i].timestamp\n",
    "        if diff != 60 or (i+1 == df.shape[0]-1):\n",
    "            endBatchIndex = i  #iloc \n",
    "            df.iloc[startBatchIndex:endBatchIndex+1].batch = batchNr #iloc cuts last index\n",
    "            df.iloc[startBatchIndex:endBatchIndex+1].batchSize = endBatchIndex-startBatchIndex+1\n",
    "            startBatchIndex = i+1\n",
    "            batchNr = batchNr +1\n",
    "    return df"
   ]
  },
  {
   "cell_type": "code",
   "execution_count": null,
   "id": "5c161352",
   "metadata": {},
   "outputs": [],
   "source": [
    "def processDataIntoBatches(df):\n",
    "    #iterate over coins\n",
    "    isInit = False\n",
    "    coins = train.Asset_ID.unique()\n",
    "    for coin in coins:\n",
    "        coinData = df.loc[df.Asset_ID == coin]#.set_index('timestamp') \n",
    "        coinData = addBatchNr(coinData)\n",
    "        #print(coinData)\n",
    "        #pad missing values\n",
    "        if not isInit:\n",
    "            data = pd.DataFrame(coinData)\n",
    "            isInit = True\n",
    "        else:\n",
    "            print(data.shape, coinData.shape)\n",
    "            data = pd.concat([data,coinData], sort = True)\n",
    "            \n",
    "            #print(data.loc[data.index == 1514765100])\n",
    "    return data"
   ]
  },
  {
   "cell_type": "code",
   "execution_count": null,
   "id": "e7907da5",
   "metadata": {},
   "outputs": [],
   "source": [
    "trainBatches = processDataIntoBatches(trainModNotPadded)"
   ]
  },
  {
   "cell_type": "code",
   "execution_count": null,
   "id": "dcd8c910",
   "metadata": {},
   "outputs": [],
   "source": [
    "trainBatches.to_hdf('03_non_padded_with_batch_info.h5', key = 'df', mode = 'w')"
   ]
  },
  {
   "cell_type": "code",
   "execution_count": null,
   "id": "559a2bf4",
   "metadata": {},
   "outputs": [],
   "source": [
    "testData = trainModNotPadded.loc[trainModNotPadded.Asset_ID == 0]#.set_index('timestamp') \n",
    "#testData = testData.iloc[0:20]\n",
    "#print(testData)\n",
    "#testData = testData.drop([testData.index[2], testData.index[5]])\n",
    "testDataPadded = addBatchNr(testData)\n",
    "print(testDataPadded)"
   ]
  },
  {
   "cell_type": "code",
   "execution_count": null,
   "id": "b8ec1b03",
   "metadata": {},
   "outputs": [],
   "source": [
    "testDataPadded.at[24236570, 'batch'] = 41534\n",
    "testDataPadded.at[24236570, 'batchSize'] = 1\n",
    "print(testDataPadded)"
   ]
  },
  {
   "cell_type": "code",
   "execution_count": null,
   "id": "8fbd3fb4",
   "metadata": {},
   "outputs": [],
   "source": [
    "testData = trainModNotPadded.loc[trainModNotPadded.Asset_ID == 10]\n",
    "print(testData)"
   ]
  },
  {
   "cell_type": "code",
   "execution_count": null,
   "id": "787143c1",
   "metadata": {},
   "outputs": [],
   "source": [
    "testDataPadded.to_hdf('02_batchSize_to_Timestamp_mapping.h5', key = 'df', mode = 'w')"
   ]
  },
  {
   "cell_type": "code",
   "execution_count": null,
   "id": "a0d46148",
   "metadata": {},
   "outputs": [],
   "source": [
    "np.unique(testDataPadded.batchSize)\n"
   ]
  },
  {
   "cell_type": "code",
   "execution_count": null,
   "id": "ab8a8a80",
   "metadata": {},
   "outputs": [],
   "source": [
    "]coinData[1514764920:1514765160]"
   ]
  },
  {
   "cell_type": "code",
   "execution_count": null,
   "id": "17f1a918",
   "metadata": {},
   "outputs": [],
   "source": [
    "test = pd.DataFrame({'team': ['Mavs', 'Lakers', 'Spurs', 'Cavs'],\n",
    "                   'name': ['Dirk', 'Kobe', 'Tim', 'Lebron'],\n",
    "                   'rebounds': [11, 7, 14, 7],\n",
    "                   'points': [26, 31, 22, 29]})\n",
    "print(test)\n",
    "\n",
    "batches = splitDataIntoBatches(test, [1,3])\n",
    "print(batches)"
   ]
  }
 ],
 "metadata": {
  "kernelspec": {
   "display_name": "Python 3",
   "language": "python",
   "name": "python3"
  },
  "language_info": {
   "codemirror_mode": {
    "name": "ipython",
    "version": 3
   },
   "file_extension": ".py",
   "mimetype": "text/x-python",
   "name": "python",
   "nbconvert_exporter": "python",
   "pygments_lexer": "ipython3",
   "version": "3.8.8"
  },
  "latex_envs": {
   "LaTeX_envs_menu_present": true,
   "autoclose": false,
   "autocomplete": true,
   "bibliofile": "biblio.bib",
   "cite_by": "apalike",
   "current_citInitial": 1,
   "eqLabelWithNumbers": true,
   "eqNumInitial": 1,
   "hotkeys": {
    "equation": "Ctrl-E",
    "itemize": "Ctrl-I"
   },
   "labels_anchors": false,
   "latex_user_defs": false,
   "report_style_numbering": false,
   "user_envs_cfg": false
  }
 },
 "nbformat": 4,
 "nbformat_minor": 5
}
